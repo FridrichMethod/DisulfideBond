{
 "cells": [
  {
   "cell_type": "code",
   "execution_count": 1,
   "metadata": {},
   "outputs": [
    {
     "data": {
      "text/plain": [
       "LigandMPNNBatch(\n",
       "  (features): ProteinFeaturesLigand(\n",
       "    (embeddings): PositionalEncodings(\n",
       "      (linear): Linear(in_features=66, out_features=16, bias=True)\n",
       "    )\n",
       "    (edge_embedding): Linear(in_features=416, out_features=128, bias=False)\n",
       "    (norm_edges): LayerNorm((128,), eps=1e-05, elementwise_affine=True)\n",
       "    (node_project_down): Linear(in_features=148, out_features=128, bias=True)\n",
       "    (norm_nodes): LayerNorm((128,), eps=1e-05, elementwise_affine=True)\n",
       "    (type_linear): Linear(in_features=147, out_features=64, bias=True)\n",
       "    (y_nodes): Linear(in_features=147, out_features=128, bias=False)\n",
       "    (y_edges): Linear(in_features=16, out_features=128, bias=False)\n",
       "    (norm_y_edges): LayerNorm((128,), eps=1e-05, elementwise_affine=True)\n",
       "    (norm_y_nodes): LayerNorm((128,), eps=1e-05, elementwise_affine=True)\n",
       "  )\n",
       "  (W_v): Linear(in_features=128, out_features=128, bias=True)\n",
       "  (W_c): Linear(in_features=128, out_features=128, bias=True)\n",
       "  (W_nodes_y): Linear(in_features=128, out_features=128, bias=True)\n",
       "  (W_edges_y): Linear(in_features=128, out_features=128, bias=True)\n",
       "  (V_C): Linear(in_features=128, out_features=128, bias=False)\n",
       "  (V_C_norm): LayerNorm((128,), eps=1e-05, elementwise_affine=True)\n",
       "  (context_encoder_layers): ModuleList(\n",
       "    (0-1): 2 x DecLayer(\n",
       "      (dropout1): Dropout(p=0.0, inplace=False)\n",
       "      (dropout2): Dropout(p=0.0, inplace=False)\n",
       "      (norm1): LayerNorm((128,), eps=1e-05, elementwise_affine=True)\n",
       "      (norm2): LayerNorm((128,), eps=1e-05, elementwise_affine=True)\n",
       "      (W1): Linear(in_features=384, out_features=128, bias=True)\n",
       "      (W2): Linear(in_features=128, out_features=128, bias=True)\n",
       "      (W3): Linear(in_features=128, out_features=128, bias=True)\n",
       "      (act): GELU(approximate='none')\n",
       "      (dense): PositionWiseFeedForward(\n",
       "        (W_in): Linear(in_features=128, out_features=512, bias=True)\n",
       "        (W_out): Linear(in_features=512, out_features=128, bias=True)\n",
       "        (act): GELU(approximate='none')\n",
       "      )\n",
       "    )\n",
       "  )\n",
       "  (y_context_encoder_layers): ModuleList(\n",
       "    (0-1): 2 x DecLayerJ(\n",
       "      (dropout1): Dropout(p=0.0, inplace=False)\n",
       "      (dropout2): Dropout(p=0.0, inplace=False)\n",
       "      (norm1): LayerNorm((128,), eps=1e-05, elementwise_affine=True)\n",
       "      (norm2): LayerNorm((128,), eps=1e-05, elementwise_affine=True)\n",
       "      (W1): Linear(in_features=256, out_features=128, bias=True)\n",
       "      (W2): Linear(in_features=128, out_features=128, bias=True)\n",
       "      (W3): Linear(in_features=128, out_features=128, bias=True)\n",
       "      (act): GELU(approximate='none')\n",
       "      (dense): PositionWiseFeedForward(\n",
       "        (W_in): Linear(in_features=128, out_features=512, bias=True)\n",
       "        (W_out): Linear(in_features=512, out_features=128, bias=True)\n",
       "        (act): GELU(approximate='none')\n",
       "      )\n",
       "    )\n",
       "  )\n",
       "  (W_e): Linear(in_features=128, out_features=128, bias=True)\n",
       "  (W_s): Embedding(21, 128)\n",
       "  (dropout): Dropout(p=0.0, inplace=False)\n",
       "  (encoder_layers): ModuleList(\n",
       "    (0-2): 3 x EncLayer(\n",
       "      (dropout1): Dropout(p=0.0, inplace=False)\n",
       "      (dropout2): Dropout(p=0.0, inplace=False)\n",
       "      (dropout3): Dropout(p=0.0, inplace=False)\n",
       "      (norm1): LayerNorm((128,), eps=1e-05, elementwise_affine=True)\n",
       "      (norm2): LayerNorm((128,), eps=1e-05, elementwise_affine=True)\n",
       "      (norm3): LayerNorm((128,), eps=1e-05, elementwise_affine=True)\n",
       "      (W1): Linear(in_features=384, out_features=128, bias=True)\n",
       "      (W2): Linear(in_features=128, out_features=128, bias=True)\n",
       "      (W3): Linear(in_features=128, out_features=128, bias=True)\n",
       "      (W11): Linear(in_features=384, out_features=128, bias=True)\n",
       "      (W12): Linear(in_features=128, out_features=128, bias=True)\n",
       "      (W13): Linear(in_features=128, out_features=128, bias=True)\n",
       "      (act): GELU(approximate='none')\n",
       "      (dense): PositionWiseFeedForward(\n",
       "        (W_in): Linear(in_features=128, out_features=512, bias=True)\n",
       "        (W_out): Linear(in_features=512, out_features=128, bias=True)\n",
       "        (act): GELU(approximate='none')\n",
       "      )\n",
       "    )\n",
       "  )\n",
       "  (decoder_layers): ModuleList(\n",
       "    (0-2): 3 x DecLayer(\n",
       "      (dropout1): Dropout(p=0.0, inplace=False)\n",
       "      (dropout2): Dropout(p=0.0, inplace=False)\n",
       "      (norm1): LayerNorm((128,), eps=1e-05, elementwise_affine=True)\n",
       "      (norm2): LayerNorm((128,), eps=1e-05, elementwise_affine=True)\n",
       "      (W1): Linear(in_features=512, out_features=128, bias=True)\n",
       "      (W2): Linear(in_features=128, out_features=128, bias=True)\n",
       "      (W3): Linear(in_features=128, out_features=128, bias=True)\n",
       "      (act): GELU(approximate='none')\n",
       "      (dense): PositionWiseFeedForward(\n",
       "        (W_in): Linear(in_features=128, out_features=512, bias=True)\n",
       "        (W_out): Linear(in_features=512, out_features=128, bias=True)\n",
       "        (act): GELU(approximate='none')\n",
       "      )\n",
       "    )\n",
       "  )\n",
       "  (W_out): Linear(in_features=128, out_features=21, bias=True)\n",
       ")"
      ]
     },
     "execution_count": 1,
     "metadata": {},
     "output_type": "execute_result"
    }
   ],
   "source": [
    "import os\n",
    "import sys\n",
    "\n",
    "import numpy as np\n",
    "import torch\n",
    "\n",
    "sys.path.append(\"..\")\n",
    "\n",
    "from models.score_ligandmpnn import LigandMPNNBatch, score_complex\n",
    "\n",
    "device = torch.device(\"cuda\" if torch.cuda.is_available() else \"cpu\")\n",
    "checkpoint = torch.load(\n",
    "    \"../models/model_params/ligandmpnn_v_32_020_25.pt\",\n",
    "    map_location=device,\n",
    "    weights_only=True,\n",
    ")\n",
    "ligandmpnn = LigandMPNNBatch(\n",
    "    ligand_mpnn_use_side_chain_context=True,\n",
    "    device=device,\n",
    ")\n",
    "ligandmpnn.load_state_dict(checkpoint[\"model_state_dict\"])\n",
    "ligandmpnn.eval().to(device)"
   ]
  },
  {
   "cell_type": "code",
   "execution_count": 2,
   "metadata": {},
   "outputs": [
    {
     "data": {
      "text/plain": [
       "(torch.Size([1, 134, 20]),\n",
       " tensor([[1.1179, 3.0119, 0.2660, 2.5777, 0.2208, 1.0683, 0.0761, 0.0767, 0.0759,\n",
       "          2.3542, 0.0976, 3.3412, 0.0988, 0.0936, 0.0999, 0.5448, 1.6589, 2.7531,\n",
       "          0.1709, 1.1868, 0.1492, 1.8021, 0.1264, 1.0390, 0.8123, 2.3950, 0.8369,\n",
       "          2.4463, 2.7029, 2.7629, 1.4452, 4.6227, 3.3798, 3.1338, 0.5154, 2.0458,\n",
       "          0.0831, 0.1128, 5.2675, 2.6589, 0.2862, 0.6491, 0.8641, 0.1051, 1.1638,\n",
       "          4.5884, 1.1727, 2.0618, 1.7215, 0.8974, 0.3654, 0.2081, 0.2496, 1.1256,\n",
       "          2.2644, 5.0136, 0.1530, 4.3272, 1.1144, 0.4414, 0.1351, 3.7346, 1.4417,\n",
       "          2.2810, 0.6260, 2.7551, 0.1076, 0.6286, 1.4993, 0.7472, 0.9102, 0.7306,\n",
       "          1.6116, 0.4630, 1.6891, 2.7592, 1.0569, 0.2140, 4.2956, 0.6524, 0.3296,\n",
       "          0.1119, 2.2601, 1.1815, 2.6056, 2.2750, 0.3840, 3.1506, 1.1450, 0.8629,\n",
       "          0.0869, 0.1910, 0.1079, 1.5957, 0.1146, 0.5283, 0.4175, 5.7748, 1.5257,\n",
       "          1.3712, 3.4429, 3.1166, 3.3000, 2.6661, 1.7946, 0.7124, 1.6782, 5.3421,\n",
       "          4.2098, 3.6307, 1.5810, 0.0684, 0.8669, 0.0768, 1.9178, 2.4978, 0.2573,\n",
       "          0.9992, 0.1317, 1.7329, 2.7987, 3.4001, 3.5892, 1.2803, 4.3070, 1.6364,\n",
       "          4.5244, 0.6247, 3.1482, 4.2951, 2.5828, 0.1276, 3.6893, 1.3800]]),\n",
       " tensor([5.1555]))"
      ]
     },
     "execution_count": 2,
     "metadata": {},
     "output_type": "execute_result"
    }
   ],
   "source": [
    "pdb_path = \"../pdbs/NbALFA_ALFAtag.pdb\"\n",
    "chains_to_design = \"A\"\n",
    "redesigned_residues = \"A1 A3 A4 A5 A7 A8 A9 A13 A14 A15 A19 A20 A21 A23 A24 A25 A26 A27 A39 A41 A44 A45 A46 A48 A50 A52 A53 A67 A68 A69 A72 A73 A74 A75 A76 A77 A78 A79 A80 A81 A82 A83 A84 A85 A86 A88 A89 A91 A92 A93 A95 A97 A99 A100 A102 A114 A116 A118 A119 A120 A121 A123 A124\"\n",
    "seqs_list = [\n",
    "    \"SGEVQLQESGGGLVQPGGSLRLSCTASGVTISALNAMAMGWYRQAPGERRVMVAAVSERGNAMYRESVQGRFTVTRDFTNKMVSLQMDNLKPEDTAVYYCHVLEDRVDSFHDYWGQGTQVTVSS:PSRLEEELRRRLTEP\",\n",
    "    \"GGTVVLTESGGGTVAPGGSATLTATASGVTISALNAMAWGWYRQRPGERPVAVAAVSERGNAMYREDVRGRWTVTADRANKTVSLEMRDLQPEDTATYYPHVLEDRVDSFHDYWGAGVPLTVVP:PSRLEEELRRRLTEP\",\n",
    "    \"GQVQLQQSAELARPGASVKMSCKASGYTFTSQAPGKGLEWVSAITWNELARPGASVKMSGHIDYADSVKGRFTISRDNSKNTLYLQMNSLRAEDTAVYYCAKYPYYGSHWYFDVWGAGTTVTVS:PSRLEEELRRRLTEP\",\n",
    "    \"PGLRAEDTAVYYCAKYPYELARPGYTFTSQAPGKGLGSHWYFDVWWYFDLYQMNSLRATIRDNSKNTWVSEVWGAGTASKMSCKASGGSVKMEDTAVYYCAKYPYYGSHGAGTDNSKNAVVTVS:PSRLEEELRRRLTEP\",\n",
    "]\n",
    "\n",
    "entropy, loss, perplexity = score_complex(\n",
    "    ligandmpnn,\n",
    "    pdb_path,\n",
    "    # chains_to_design=chains_to_design,\n",
    "    redesigned_residues=redesigned_residues,\n",
    "    # seqs_list=seqs_list,\n",
    "    use_side_chain_context=True,\n",
    ")\n",
    "entropy.shape, loss, perplexity"
   ]
  },
  {
   "cell_type": "code",
   "execution_count": 3,
   "metadata": {},
   "outputs": [],
   "source": [
    "from models.score_ligandmpnn import extract_from_sample, extract_from_score"
   ]
  },
  {
   "cell_type": "code",
   "execution_count": 4,
   "metadata": {},
   "outputs": [],
   "source": [
    "# !sh \"./score_complex.sh\" \"../pdbs/NbALFA_ALFAtag_AF3.pdb\" \"../results_/score/\"\n",
    "# extract_from_score(\"../results_/score/NbALFA_ALFAtag_AF3.pt\")"
   ]
  },
  {
   "cell_type": "code",
   "execution_count": 5,
   "metadata": {},
   "outputs": [],
   "source": [
    "# !sh \"./score_wt.sh\" \"../pdbs/NbALFA_ALFAtag_AF3.pdb\" \"../results/score\"\n",
    "# extract_from_score(\"../results/score/NbALFA_ALFAtag_AF3.pt\")"
   ]
  },
  {
   "cell_type": "code",
   "execution_count": 6,
   "metadata": {},
   "outputs": [],
   "source": [
    "# !sh \"./sample_complex.sh\" \"../pdbs/NbALFA_AF3.pdb\" \"../results/sample\"\n",
    "# extract_from_sample(\"../results/sample/stats/NbALFA_AF3.pt\")"
   ]
  }
 ],
 "metadata": {
  "kernelspec": {
   "display_name": "pdmodels",
   "language": "python",
   "name": "python3"
  },
  "language_info": {
   "codemirror_mode": {
    "name": "ipython",
    "version": 3
   },
   "file_extension": ".py",
   "mimetype": "text/x-python",
   "name": "python",
   "nbconvert_exporter": "python",
   "pygments_lexer": "ipython3",
   "version": "3.11.10"
  }
 },
 "nbformat": 4,
 "nbformat_minor": 2
}
