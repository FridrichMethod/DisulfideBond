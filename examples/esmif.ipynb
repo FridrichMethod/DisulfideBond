{
 "cells": [
  {
   "cell_type": "code",
   "execution_count": null,
   "metadata": {},
   "outputs": [],
   "source": [
    "import os\n",
    "import sys\n",
    "\n",
    "sys.path.append(\"..\")\n",
    "\n",
    "import esm\n",
    "import numpy as np\n",
    "import pandas as pd\n",
    "import torch\n",
    "import torch_geometric\n",
    "import torch_sparse\n",
    "from torch_geometric.nn import MessagePassing\n",
    "from tqdm.auto import tqdm\n",
    "\n",
    "from models.sample_esmif import sample_complex\n",
    "from models.score_esmif import score_complex\n",
    "\n",
    "device = torch.device(\"cuda\" if torch.cuda.is_available() else \"cpu\")\n",
    "\n",
    "esmif_model, esmif_alphabet = esm.pretrained.esm_if1_gvp4_t16_142M_UR50()\n",
    "esmif_model = esmif_model.eval().to(device)"
   ]
  },
  {
   "cell_type": "code",
   "execution_count": null,
   "metadata": {},
   "outputs": [],
   "source": [
    "pdbfile = \"../pdbs/NbALFA_ALFAtag_AF3.pdb\"\n",
    "target_seq_list = [\n",
    "    \"GQVQLQQSAELARPGASVKMSCKASGYTFTSQAPGKGLEWVSAITWNELARPGASVKMSGHIDYADSVKGRFTISRDNSKNTLYLQMNSLRAEDTAVYYCAKYPYYGSHWYFDVWGAGTTVTVS\",\n",
    "    \"KGQVQLQQSAELALARMSCKASYTFTSQAPGKGLEWVSAITWNELARPGASVKMSGHIDYADSVKGRFSGHIDYADSVKGRFTIPGASVKMSGTEKMSCTAVYYCAKYPGQVQLQQSAELAASS\",\n",
    "    \"ARPGASVNELARPGASVKMSGHIDYAKMSCKASGYTFTSQAPGLEWVSAITWNELKASGYFTSQAPLQMLYLAVYYCAKPYYGSHVWGAVSAITWGVQLYAVAKYSRDNSKNTTVTVGTTVTVS\",\n",
    "    \"PGLRAEDTAVYYCAKYPYELARPGYTFTSQAPGKGLGSHWYFDVWWYFDLYQMNSLRATIRDNSKNTWVSEVWGAGTASKMSCKASGGSVKMEDTAVYYCAKYPYYGSHGAGTDNSKNTVVTVS\",\n",
    "    \"ASVRPGLYLQMNSGQVQLQQSALQQSAELYYGSHWYFDVWGAGTTVHIDYADSVKGRFTISRDNSKNTLYLQMNSLRAEDTDVWGAGTTVTEWVNSLRAEDARPGASVKMSGTDSVKGRFTISS\",\n",
    "    \"SGEVQLQESGGGLVQPGGSLRLSCTASGVTISALNAMAMGWYRQAPGERRVMVAAVSERGNAMYRESVQGRFTVTRDFTNKMVSLQMDNLKPEDTAVYYCHVLEDRVDSFHDYWGQGTQVTVSS\",\n",
    "    \"SGTVQLTESGGGTVAPGGSLTLSAKATGVTISALNAMAWGWYRQRPGERRVAVAAVSERGNAMYREDVRGRWTITRDAANKTVSLEMRDLRPEDTATYYPHVLEDRVDSFHDYWGAGVPVTVVP\",\n",
    "    \"IGPVQLVESGGGKVEPGGSLTLEMEAKGVTISALNAMAMGWYRQRPGERRVMVAAVSERGNAMYREDVRGRFRVTKNQRDRRVSLKMNNLKPEDSATYFAHVLEDRVDSFHDYWGKGSVVSVRP\",\n",
    "]\n",
    "entropy, loss, perplexity = score_complex(\n",
    "    esmif_model,\n",
    "    esmif_alphabet,\n",
    "    pdbfile,\n",
    "    target_seq_list=target_seq_list,\n",
    ")\n",
    "entropy.shape, loss, perplexity"
   ]
  },
  {
   "cell_type": "code",
   "execution_count": null,
   "metadata": {},
   "outputs": [],
   "source": [
    "# pdbfile = \"../pdbs/NbALFA_AF3.pdb\"\n",
    "# output_path = \"../results/sampled_monomer_esm.fasta\"\n",
    "# redisigned_residues = \"1 3 4 5 7 8 9 13 14 15 19 20 21 23 24 25 26 27 39 41 44 45 46 48 50 52 53 67 68 69 72 73 74 75 76 77 78 79 80 81 82 83 84 85 86 88 89 91 92 93 95 97 99 100 102 114 116 118 119 120 121 123 124\"\n",
    "\n",
    "# for batch_num in tqdm(range(2048)):\n",
    "#     sample_complex(\n",
    "#         esmif_model,\n",
    "#         esmif_alphabet,\n",
    "#         pdbfile,\n",
    "#         output_path,\n",
    "#         target_chain_id=\"A\",\n",
    "#         batch_size=32,\n",
    "#         redesigned_residues=redisigned_residues,\n",
    "#         omit_aa=\"C\",\n",
    "#         temperature=1.0,\n",
    "#         padding_length=10,\n",
    "#         index_offset=batch_num * 32,\n",
    "#     )"
   ]
  }
 ],
 "metadata": {
  "kernelspec": {
   "display_name": "pdmodels",
   "language": "python",
   "name": "python3"
  },
  "language_info": {
   "codemirror_mode": {
    "name": "ipython",
    "version": 3
   },
   "file_extension": ".py",
   "mimetype": "text/x-python",
   "name": "python",
   "nbconvert_exporter": "python",
   "pygments_lexer": "ipython3",
   "version": "3.11.10"
  }
 },
 "nbformat": 4,
 "nbformat_minor": 2
}
