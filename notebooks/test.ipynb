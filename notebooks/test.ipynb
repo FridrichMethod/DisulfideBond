{
 "cells": [
  {
   "cell_type": "code",
   "execution_count": null,
   "metadata": {},
   "outputs": [],
   "source": [
    "import os\n",
    "import sys\n",
    "\n",
    "sys.path.append(\"..\")\n",
    "\n",
    "import numpy as np\n",
    "import pandas as pd\n",
    "from Bio.Align import substitution_matrices\n",
    "\n",
    "from utils import count_mutations\n",
    "\n",
    "AA_ALPHABET = \"ACDEFGHIKLMNPQRSTVWY\"\n",
    "AA_DICT = {aa: i for i, aa in enumerate(AA_ALPHABET)}\n",
    "CHAIN_ALPHABET = \"ABCDEFGHIJKLMNOPQRSTUVWXYZ\""
   ]
  },
  {
   "cell_type": "code",
   "execution_count": null,
   "metadata": {},
   "outputs": [],
   "source": [
    "seqs = [\n",
    "    \"MGDVTLQESGGGQVAPGGTLTLKSRASGVTISALNAMAFGWYRQAPGQRQVEVAAVSERGNAMYRETVQGRFTVTRNSTQRQVSLQMNNLRPSDSAVYYAHVLEDRVDSFHDYWGGGQKVVVSR\",\n",
    "    \"GGAVVLSESGGGEVAPGGSLRLNATAAGVTISALNAMAFGWYRQAPGTRMVSVAAVSERGNAMYREDVRGRFRVVRDSSRKQVSLDMNALLPADSAVYYAHVLEDRVDSFHDYYGSGERVVVRP\",\n",
    "    \"MGKVTLQESGGGLVKPGGSLTLSATASGVTISALNAMAMGWYRQAPGKRMVLVAAVSERGNAMYRETVKGRFTVTRDVERKQVALKMDQLLPSDSATYFPHVLEDRVDSFHDYYGAGVQVVVRA\",\n",
    "]\n",
    "seq0 = \"SGEVQLQESGGGLVQPGGSLRLSCTASGVTISALNAMAMGWYRQAPGERRVMVAAVSERGNAMYRESVQGRFTVTRDFTNKMVSLQMDNLKPEDTAVYYCHVLEDRVDSFHDYWGQGTQVTVSS\"\n",
    "\n",
    "count_mutations(seqs, seq0, substitution_matrix=\"PAM30\")"
   ]
  }
 ],
 "metadata": {
  "kernelspec": {
   "display_name": "prodes",
   "language": "python",
   "name": "python3"
  },
  "language_info": {
   "codemirror_mode": {
    "name": "ipython",
    "version": 3
   },
   "file_extension": ".py",
   "mimetype": "text/x-python",
   "name": "python",
   "nbconvert_exporter": "python",
   "pygments_lexer": "ipython3",
   "version": "3.11.10"
  }
 },
 "nbformat": 4,
 "nbformat_minor": 2
}
