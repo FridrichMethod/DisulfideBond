{
 "cells": [
  {
   "cell_type": "code",
   "execution_count": null,
   "metadata": {},
   "outputs": [],
   "source": [
    "import os\n",
    "import sys\n",
    "\n",
    "import numpy as np\n",
    "import torch\n",
    "\n",
    "sys.path.append(\"../\")\n",
    "\n",
    "from score_ligandmpnn import LigandMPNNBatch, score_complex\n",
    "\n",
    "device = torch.device(\"cuda\" if torch.cuda.is_available() else \"cpu\")\n",
    "checkpoint = torch.load(\n",
    "    \"../model_params/ligandmpnn_v_32_020_25.pt\", map_location=device\n",
    ")\n",
    "ligand_mpnn = LigandMPNNBatch(\n",
    "    model_type=\"ligand_mpnn\",\n",
    "    k_neighbors=32,\n",
    "    atom_context_num=25,\n",
    "    ligand_mpnn_use_side_chain_context=True,\n",
    "    device=device,\n",
    ")\n",
    "ligand_mpnn.load_state_dict(checkpoint[\"model_state_dict\"])\n",
    "ligand_mpnn.to(device)\n",
    "ligand_mpnn.eval()"
   ]
  },
  {
   "cell_type": "code",
   "execution_count": null,
   "metadata": {},
   "outputs": [],
   "source": [
    "# pdbfile = \"../results/sample/backbones/NbALFA_ALFAtag_AF3_0.pdb\"\n",
    "pdbfile = \"../pdbs/NbALFA_ALFAtag_AF3.pdb\"\n",
    "chains_to_design = \"A\"\n",
    "redesigned_residues = \"A1 A3 A4 A5 A7 A8 A9 A13 A14 A15 A19 A20 A21 A23 A24 A25 A26 A27 A39 A41 A44 A45 A46 A48 A50 A52 A53 A67 A68 A69 A72 A73 A74 A75 A76 A77 A78 A79 A80 A81 A82 A83 A84 A85 A86 A88 A89 A91 A92 A93 A95 A97 A99 A100 A102 A114 A116 A118 A119 A120 A121 A123 A124\"\n",
    "target_seqs_list = [\n",
    "    \"SGEVQLQESGGGLVQPGGSLRLSCTASGVTISALNAMAMGWYRQAPGERRVMVAAVSERGNAMYRESVQGRFTVTRDFTNKMVSLQMDNLKPEDTAVYYCHVLEDRVDSFHDYWGQGTQVTVSS:PSRLEEELRRRLTEP\",\n",
    "    \"GGTVVLTESGGGTVAPGGSATLTATASGVTISALNAMAWGWYRQRPGERPVAVAAVSERGNAMYREDVRGRWTVTADRANKTVSLEMRDLQPEDTATYYPHVLEDRVDSFHDYWGAGVPLTVVP:PSRLEEELRRRLTEP\",\n",
    "    \"GQVQLQQSAELARPGASVKMSCKASGYTFTSQAPGKGLEWVSAITWNELARPGASVKMSGHIDYADSVKGRFTISRDNSKNTLYLQMNSLRAEDTAVYYCAKYPYYGSHWYFDVWGAGTTVTVS:PSRLEEELRRRLTEP\",\n",
    "    \"PGLRAEDTAVYYCAKYPYELARPGYTFTSQAPGKGLGSHWYFDVWWYFDLYQMNSLRATIRDNSKNTWVSEVWGAGTASKMSCKASGGSVKMEDTAVYYCAKYPYYGSHGAGTDNSKNAVVTVS:PSRLEEELRRRLTEP\",\n",
    "]\n",
    "\n",
    "entropy, loss, perplexity = score_complex(\n",
    "    ligand_mpnn,\n",
    "    pdbfile,\n",
    "    # chains_to_design=chains_to_design,\n",
    "    redesigned_residues=redesigned_residues,\n",
    "    seqs_list=target_seqs_list,\n",
    "    use_side_chain_context=True,\n",
    ")\n",
    "entropy.shape, loss, perplexity"
   ]
  },
  {
   "cell_type": "code",
   "execution_count": null,
   "metadata": {},
   "outputs": [],
   "source": [
    "def extract_from_score(output_path):\n",
    "    with open(output_path, \"rb\") as f:\n",
    "        output = torch.load(f)\n",
    "\n",
    "    entropy = -(\n",
    "        torch.tensor(output[\"logits\"][:, :, :20]).softmax(dim=-1).mean(dim=0).log()\n",
    "    )  # (L, 20)\n",
    "    target = torch.tensor(output[\"native_sequence\"], dtype=torch.long)  # (L,)\n",
    "    loss = torch.gather(entropy, 1, target.unsqueeze(1)).squeeze()  # (L,)\n",
    "    perplexity = torch.exp(loss.mean()).item()  # scalar\n",
    "\n",
    "    return entropy, loss, perplexity\n",
    "\n",
    "\n",
    "def extract_from_sample(output_path):\n",
    "    with open(output_path, \"rb\") as f:\n",
    "        output = torch.load(f)\n",
    "\n",
    "    entropy = -output[\"log_probs\"]  # (B, L, 20)\n",
    "    target = output[\"generated_sequences\"]  # (B, L)\n",
    "    loss = torch.gather(entropy, 2, target.unsqueeze(2)).squeeze(2)  # (B, L)\n",
    "    perplexity = torch.exp(loss.mean(dim=-1))  # (B,)\n",
    "    # redesigned = output[\"chain_mask\"] == 1\n",
    "    # confidence = torch.exp(-loss[:, redesigned].mean(dim=-1))\n",
    "\n",
    "    return entropy, loss, perplexity"
   ]
  },
  {
   "cell_type": "code",
   "execution_count": null,
   "metadata": {},
   "outputs": [],
   "source": [
    "# !sh \"./score_complex.sh\" \"../pdbs/NbALFA_ALFAtag_AF3.pdb\" \"../results_/score/\"\n",
    "# extract_from_score(\"../results_/score/NbALFA_ALFAtag_AF3.pt\")"
   ]
  },
  {
   "cell_type": "code",
   "execution_count": null,
   "metadata": {},
   "outputs": [],
   "source": [
    "# !sh \"./score_wt.sh\" \"../pdbs/NbALFA_ALFAtag_AF3.pdb\" \"../results/score\"\n",
    "# extract_from_score(\"../results/score/NbALFA_ALFAtag_AF3.pt\")"
   ]
  },
  {
   "cell_type": "code",
   "execution_count": null,
   "metadata": {},
   "outputs": [],
   "source": [
    "# !sh \"./sample_complex.sh\" \"../pdbs/NbALFA_AF3.pdb\" \"../results/sample\"\n",
    "# extract_from_sample(\"../results/sample/stats/NbALFA_AF3.pt\")"
   ]
  }
 ],
 "metadata": {
  "kernelspec": {
   "display_name": "prodes",
   "language": "python",
   "name": "python3"
  },
  "language_info": {
   "codemirror_mode": {
    "name": "ipython",
    "version": 3
   },
   "file_extension": ".py",
   "mimetype": "text/x-python",
   "name": "python",
   "nbconvert_exporter": "python",
   "pygments_lexer": "ipython3",
   "version": "3.11.10"
  }
 },
 "nbformat": 4,
 "nbformat_minor": 2
}
